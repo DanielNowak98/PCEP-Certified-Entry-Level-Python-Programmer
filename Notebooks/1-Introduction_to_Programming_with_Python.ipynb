{
 "cells": [
  {
   "cell_type": "markdown",
   "id": "7819dbd0-fc13-4af0-9fc4-da88641d4f88",
   "metadata": {},
   "source": [
    "# Introduction to Programming with Python"
   ]
  },
  {
   "cell_type": "markdown",
   "id": "6ac9088d-3c18-4545-a356-ba8944b0cd66",
   "metadata": {},
   "source": [
    "> A program makes a computer usable. Without a program, a computer, even the most powerful one, is nothing more than an object. Similarly, without a player, a piano is nothing more than a wooden box."
   ]
  },
  {
   "cell_type": "markdown",
   "id": "2607c632-18b8-4b15-a5e0-52d47e0da484",
   "metadata": {},
   "source": [
    "Naturally, the computer will be able to compute this, but the computer is not aware of such things as distance, speed, or time. Therefore, it is necessary to instruct the computer to:\n",
    "\n",
    "<ol>\n",
    "    <li>accept a number representing the distance;</li>\n",
    "    <li>accept a number representing the travel time;</li>\n",
    "    <li>divide the former value by the latter and store the result in the memory;</li>\n",
    "    <li>display the result (representing the average speed) in a readable format.</li>\n",
    "</ol>\n",
    "These four simple actions form a program. Of course, these examples are not formalized, and they are very far from what the computer can understand, but they are good enough to be translated into a language the computer can accept."
   ]
  },
  {
   "cell_type": "markdown",
   "id": "34cd7819-95b3-4f4e-a63c-52e3cf325def",
   "metadata": {},
   "source": [
    "### 1. Compilation vs. Interpretation"
   ]
  },
  {
   "cell_type": "markdown",
   "id": "9cb40dd2-33ac-4b61-8fa8-ccd6fa7621fc",
   "metadata": {},
   "source": [
    "COMPILATION - the source program is translated once (however, this act must be repeated each time you modify the source code) by getting a file (e.g., an .exe file if the code is intended to be run under MS Windows) containing the machine code; now you can distribute the file worldwide; the program that performs this translation is called a compiler or translator;\n",
    "\n",
    "INTERPRETATION - you (or any user of the code) can translate the source program each time it has to be run; the program performing this kind of transformation is called an interpreter, as it interprets the code every time it is intended to be executed; it also means that you cannot just distribute the source code as-is, because the end-user also needs the interpreter to execute it."
   ]
  },
  {
   "cell_type": "markdown",
   "id": "7298682d-55fb-432b-9cd7-1349b7c90859",
   "metadata": {},
   "source": [
    "##### 1.1 What does the interpreter actually do?"
   ]
  },
  {
   "cell_type": "markdown",
   "id": "0c9d5358-c372-430c-8f97-0c97c658ffcf",
   "metadata": {},
   "source": [
    "Let's assume once more that you have written a program. Now, it exists as a computer file: a computer program is actually a piece of text, so the source code is usually placed in text files.\n",
    "\n",
    "Note: it has to be pure text, without any decorations like different fonts, colors, embedded images or other media. Now you have to invoke the interpreter and let it read your source file.\n",
    "\n",
    "The interpreter reads the source code in a way that is common in Western culture: from top to bottom and from left to right. There are some exceptions - they'll be covered later in the course.\n",
    "\n",
    "\n",
    "First of all, the interpreter checks if all subsequent lines are correct (using the four aspects covered earlier).\n",
    "If the interpreter finds an error, it finishes its work immediately. The only result in this case is an error message.\n",
    "The interpreter will inform you where the error is located and what caused it. However, these messages may be misleading, as the interpreter isn't able to follow your exact intentions, and may detect errors at some distance from their real causes.\n",
    "\n",
    "For example, if you try to use an entity of an unknown name, it will cause an error, but the error will be discovered in the place where it tries to use the entity, not where the new entity's name was introduced.\n",
    "In other words, the actual reason is usually located a little earlier in the code, for example, in the place where you had to inform the interpreter that you were going to use the entity of the name.\n",
    "\n",
    "\n",
    "If the line looks good, the interpreter tries to execute it (note: each line is usually executed separately, so the trio \"read-check-execute\" can be repeated many times - more times than the actual number of lines in the source file, as some parts of the code may be executed more than once).\n",
    "It is also possible that a significant part of the code may be executed successfully before the interpreter finds an error. This is normal behavior in this execution model.\n",
    "\n",
    "You may ask now: which is better? The \"compiling\" model or the \"interpreting\" model? There is no obvious answer. \n",
    "If there had been, one of these models would have ceased to exist a long time ago. Both of them have their advantages and their disadvantages."
   ]
  },
  {
   "cell_type": "markdown",
   "id": "63a9ff79-fe51-4c96-812b-8250f7a87352",
   "metadata": {},
   "source": [
    "##### 1.2 Advantages and Disadvantages - Compilation and Interpretation"
   ]
  },
  {
   "cell_type": "code",
   "execution_count": null,
   "id": "2ba4dca3-1400-4e64-adb9-0f7bfdb83e83",
   "metadata": {},
   "outputs": [],
   "source": []
  }
 ],
 "metadata": {
  "kernelspec": {
   "display_name": "Python 3 (ipykernel)",
   "language": "python",
   "name": "python3"
  },
  "language_info": {
   "codemirror_mode": {
    "name": "ipython",
    "version": 3
   },
   "file_extension": ".py",
   "mimetype": "text/x-python",
   "name": "python",
   "nbconvert_exporter": "python",
   "pygments_lexer": "ipython3",
   "version": "3.9.7"
  }
 },
 "nbformat": 4,
 "nbformat_minor": 5
}
